{
  "cells": [
    {
      "cell_type": "markdown",
      "metadata": {
        "colab_type": "text",
        "id": "view-in-github"
      },
      "source": [
        "<a href=\"https://colab.research.google.com/github/desmond-rn/projet-inverse-2d/blob/master/src/notebook/format_binaire.ipynb\" target=\"_parent\"><img src=\"https://colab.research.google.com/assets/colab-badge.svg\" alt=\"Open In Colab\"/></a>"
      ]
    },
    {
      "cell_type": "code",
      "execution_count": 15,
      "metadata": {
        "colab": {},
        "colab_type": "code",
        "id": "vU6rE5DnlATL"
      },
      "outputs": [],
      "source": [
        "%reset -f"
      ]
    },
    {
      "cell_type": "code",
      "execution_count": 16,
      "metadata": {
        "colab": {},
        "colab_type": "code",
        "id": "JtAq0O5XGELH"
      },
      "outputs": [],
      "source": [
        "import numpy as np\n",
        "import random"
      ]
    },
    {
      "cell_type": "code",
      "execution_count": 17,
      "metadata": {
        "colab": {},
        "colab_type": "code",
        "id": "_613bT0QlATU"
      },
      "outputs": [],
      "source": [
        "np.set_printoptions(precision = 3)"
      ]
    },
    {
      "cell_type": "markdown",
      "metadata": {
        "colab_type": "text",
        "id": "qxCUfRNWGGvi"
      },
      "source": [
        "# Traitement des données"
      ]
    },
    {
      "cell_type": "markdown",
      "metadata": {
        "colab_type": "text",
        "id": "lCNMvubIgyJW"
      },
      "source": [
        "## Chargement des données"
      ]
    },
    {
      "cell_type": "markdown",
      "metadata": {
        "colab": {
          "base_uri": "https://localhost:8080/",
          "height": 35
        },
        "colab_type": "code",
        "id": "pCjoUMLNoH5p",
        "outputId": "65e29e27-d94e-41d1-beda-79d198e85257"
      },
      "source": [
        "\"\"\" DEPUIS GOOGLE DRIVE \"\"\"\n",
        "\n"
      ]
    },
    {
      "cell_type": "code",
      "execution_count": 18,
      "metadata": {},
      "outputs": [],
      "source": [
        "# from google.colab import drive\n",
        "# drive.mount('/gdrive')"
      ]
    },
    {
      "cell_type": "code",
      "execution_count": 19,
      "metadata": {
        "colab": {
          "base_uri": "https://localhost:8080/",
          "height": 170
        },
        "colab_type": "code",
        "id": "bfhzPvyEom1Y",
        "outputId": "9e74c020-d8ad-4105-e930-b0d48d54c1d5"
      },
      "outputs": [],
      "source": [
        "# %cd ~\n",
        "# %cd /gdrive/My\\ Drive\n",
        "# %cd Colab\\ Notebooks/Projet\\ inverse/data\n",
        "# print()\n",
        "\n",
        "# %ls"
      ]
    },
    {
      "cell_type": "markdown",
      "metadata": {},
      "source": [
        "\"\"\" EN LOCAL \"\"\""
      ]
    },
    {
      "cell_type": "code",
      "execution_count": 20,
      "metadata": {},
      "outputs": [
        {
          "name": "stdout",
          "output_type": "stream",
          "text": [
            "[WinError 3] The system cannot find the path specified: '../data/forwardPB/outputs'\n",
            "c:\\Users\\rouss\\Projects\\InverseProblem\\notebooks\n"
          ]
        }
      ],
      "source": [
        "%cd ../data/forwardPB/outputs\n",
        "# %ls"
      ]
    },
    {
      "cell_type": "markdown",
      "metadata": {
        "colab_type": "text",
        "id": "B51nSgjiGGn5"
      },
      "source": [
        "Les donnees sont sauvegardées dans un format binaire intitulé **SDS** (source-densité-signal). La version 02 de ce format est structurée dans l'ordre ci-après (l'en-tete du fichier est compris entre les lignes horizontales, et le reste represente la structure d'une des 4 simulations presente dans le fichier):\n",
        "\n",
        "---\n",
        "- **`5`** octets pour la constante magique **sds02**\n",
        "- __`2`__ octets pour le nombre de simulations presentes dans le fichier (4 simus)\n",
        "- __`2`__ octets pour `N` (nombre de mailles en horizontale)\n",
        "- __`2`__ octets pour `M` (nombre de mailles en verticale)\n",
        "- __`2`__ octets pour `step_count` (nombre d'iterations en temps)\n",
        "- **`1`** octet pour le charactere 0xA (newline)\n",
        "---\n",
        "- **`1`** octet pour le bord sur lequel se trouve la source: (0 pour up, 1 pour down, 2 pour left, 3 pour right, et -1 si aucun de ces 4)\n",
        "- **`1`** octet pour la position de la source sur son bord: (-1 indiquant que la source couvre tout le bord)\n",
        "- __`M * N * 4`__ octets pour la densite (multiplication par 4 car `float`)\n",
        "- **`step_count * N * 4`** octets pour E_up\n",
        "- idem pour F_up\n",
        "- idem pour T_up\n",
        "- **`step_count * N * 4`** octets pour E_down\n",
        "- idem pour F_up\n",
        "- idem pour T_up\n",
        "- **`step_count * M * 4`** octets pour E_left\n",
        "- idem pour F_left\n",
        "- idem pour T_left\n",
        "- **`step_count * M * 4`** octets pour E_right\n",
        "- idem pour F_right\n",
        "- idem pour T_right\n",
        "- **`1`** octet pour le charactere `0xA` (newline)"
      ]
    },
    {
      "cell_type": "code",
      "execution_count": 21,
      "metadata": {
        "colab": {},
        "colab_type": "code",
        "id": "nopK185rxObh",
        "tags": []
      },
      "outputs": [],
      "source": [
        "def read_sds_version02(file_path):\n",
        "\n",
        "  file = open(file_path, \"rb\")\n",
        "\n",
        "  sds_version = file.read(5)\n",
        "  # print(sds_version)\n",
        "  assert(sds_version == b'sds02')\n",
        "\n",
        "  simu_count = int.from_bytes(file.read(2), byteorder='little', signed=False)\n",
        "  N = int.from_bytes(file.read(2), byteorder='little', signed=False)\n",
        "  M = int.from_bytes(file.read(2), byteorder='little', signed=False)\n",
        "  step_count = int.from_bytes(file.read(2), byteorder='little', signed=False)\n",
        "\n",
        "  assert(file.read(1) == b'\\n')\n",
        "\n",
        "  X = np.zeros(shape=(step_count, N, 4, 4, 3), dtype=np.float32)\n",
        "  Y = np.zeros(shape=(M,N), dtype=np.float32)\n",
        "\n",
        "  # print(step_count)\n",
        "\n",
        "  while True:\n",
        "    byte = file.read(1)\n",
        "    if len(byte) < 1:   ## EOF\n",
        "      break\n",
        "\n",
        "    source_edge = int.from_bytes(byte, byteorder='little', signed=True)\n",
        "    source_pos = int.from_bytes(file.read(1), byteorder='little', signed=True)\n",
        "    assert (source_edge != -1 and source_pos == -1)\n",
        "    # print(\"source \", source_edge, source_pos)\n",
        "\n",
        "    rho_attr = file.read(M*N*4)\n",
        "    Y[:,:] = np.frombuffer(rho_attr, dtype=np.float32).reshape(M,N)\n",
        "\n",
        "    for e_signal in range(4): ## up, down, left, right pour le signal\n",
        "      for ch in range(3): ## E, F, T\n",
        "        signal = file.read(step_count*N*4)\n",
        "        X[:, :, source_edge, e_signal, ch] = np.frombuffer(signal, dtype=np.float32).reshape(step_count, N)\n",
        "\n",
        "    assert(file.read(1) == b'\\n')\n",
        "\n",
        "  return X, Y"
      ]
    },
    {
      "cell_type": "code",
      "execution_count": 22,
      "metadata": {
        "tags": []
      },
      "outputs": [
        {
          "name": "stdout",
          "output_type": "stream",
          "text": [
            "(2, 383, 64, 4, 4, 3) (2, 64, 64, 1)\n"
          ]
        }
      ],
      "source": [
        "X = np.empty(shape=(2,383, 64, 4, 4, 3))\n",
        "Y = np.empty(shape=(2,64, 64, 1))\n",
        "\n",
        "cpt=0\n",
        "for i in range(3004,3006):\n",
        "    if i<=2168 or i>=2178:\n",
        "\n",
        "        filename = \"../data/outputs/\"+str(i)+\".sds\"\n",
        "        # print(\"Working on\", filename)\n",
        "        X_i, Y_i = read_sds_version02(filename)\n",
        "\n",
        "        X[cpt] = X_i\n",
        "        Y[cpt] = Y_i[:, :, np.newaxis]\n",
        "        \n",
        "        cpt += 1\n",
        "\n",
        "print(X.shape, Y.shape)"
      ]
    },
    {
      "cell_type": "code",
      "execution_count": 23,
      "metadata": {
        "tags": []
      },
      "outputs": [],
      "source": [
        "# arr = np.arange(0,383,383/64)\n",
        "# cpt=0\n",
        "\n",
        "# for i in range(0,1928):\n",
        "#     if i<482 or i>=964:\n",
        "#         filename = str(i)+\".sds\"\n",
        "#         X_i, Y_i = read_sds_version02(filename)\n",
        "#         print(\"Working on\", filename)\n",
        "\n",
        "#         Xprime = np.zeros(shape=(64, 64, 4, 4, 3))\n",
        "#         for i in range(64):\n",
        "#             Xprime[i] = X_i[int(arr[i])]\n",
        "\n",
        "#         X_i = Xprime.reshape(64,64,-1)\n",
        "#         Y_i = Y_i[:, :, np.newaxis]\n",
        "\n",
        "#         np.save(\"../../inversePB/inputs/\"+str(cpt)+\".npy\", X_i)\n",
        "#         np.save(\"../../inversePB/outputs/\"+str(cpt)+\".npy\", Y_i)\n",
        "\n",
        "#         cpt +=1"
      ]
    },
    {
      "cell_type": "code",
      "execution_count": 24,
      "metadata": {
        "tags": []
      },
      "outputs": [
        {
          "name": "stdout",
          "output_type": "stream",
          "text": [
            "11.674469947814941\n"
          ]
        }
      ],
      "source": [
        "## Resampling\n",
        "\n",
        "widthX = X.shape[1]\n",
        "bs = X.shape[0]\n",
        "\n",
        "Xprime = np.zeros(shape=(bs,64, 64, 4, 4, 3))\n",
        "\n",
        "arr = np.arange(0,widthX,widthX/64)\n",
        "\n",
        "for i in range(64):\n",
        "    Xprime[:,i] = X[:,int(arr[i])]\n",
        "\n",
        "X = Xprime.reshape(bs,64,64,-1)\n",
        "print(np.max(Xprime, axis=None))"
      ]
    },
    {
      "cell_type": "code",
      "execution_count": 25,
      "metadata": {},
      "outputs": [],
      "source": [
        "## Randomisation\n",
        "\n",
        "bs = X.shape[0]\n",
        "arr = list(range(bs))\n",
        "random.shuffle(arr)\n",
        "# print(arr)\n",
        "\n",
        "Xprime = np.zeros(shape=(bs,64, 64, 48))\n",
        "Yprime = np.zeros(shape=(bs,64, 64, 1))\n",
        "\n",
        "for i in range(bs):\n",
        "    Xprime[i] = X[arr[i]]\n",
        "    Yprime[i] = Y[arr[i]]\n",
        "\n",
        "X = Xprime\n",
        "Y = Yprime"
      ]
    },
    {
      "cell_type": "code",
      "execution_count": 26,
      "metadata": {},
      "outputs": [
        {
          "name": "stdout",
          "output_type": "stream",
          "text": [
            "(2, 64, 64, 48) (2, 64, 64, 1)\n"
          ]
        }
      ],
      "source": [
        "## Normalisation\n",
        "\n",
        "X = X / np.max(X, axis=None)\n",
        "Y = Y / np.max(Y, axis=None)\n",
        "\n",
        "## New axis on Y to indicate it only has 1 chennel out\n",
        "# Y = Y[:,:,:,np.newaxis]\n",
        "\n",
        "print(X.shape, Y.shape)"
      ]
    },
    {
      "cell_type": "code",
      "execution_count": 29,
      "metadata": {},
      "outputs": [
        {
          "name": "stdout",
          "output_type": "stream",
          "text": [
            "train shapes: (1, 64, 64, 48) (1, 64, 64, 1)\n",
            "val shapes: (1, 64, 64, 48) (1, 64, 64, 1)\n",
            "test shapes: (0, 64, 64, 48) (0, 64, 64, 1)\n"
          ]
        }
      ],
      "source": [
        "lenTrain=1\n",
        "lenVal=1\n",
        "\n",
        "X_train, Y_train = X[:lenTrain], Y[:lenTrain]\n",
        "print(\"train shapes:\", X_train.shape, Y_train.shape)\n",
        "\n",
        "X_val, Y_val = X[lenTrain:lenVal+lenTrain], Y[lenTrain:lenVal+lenTrain]\n",
        "print(\"val shapes:\", X_val.shape, Y_val.shape)\n",
        "\n",
        "X_test, Y_test = X[lenTrain+lenVal:], Y[lenTrain+lenVal:]\n",
        "print(\"test shapes:\", X_test.shape, Y_test.shape)"
      ]
    },
    {
      "cell_type": "code",
      "execution_count": 32,
      "metadata": {
        "tags": []
      },
      "outputs": [],
      "source": [
        "np.save(\"../../inversePB/train/X2.npy\", X_train)\n",
        "np.save(\"../../inversePB/train/Y2.npy\", Y_train)\n",
        "\n",
        "np.save(\"../../inversePB/val/X2.npy\", X_val)\n",
        "np.save(\"../../inversePB/val/Y2.npy\", Y_val)\n",
        "\n",
        "np.save(\"../../inversePB/test/X2.npy\", X_test)\n",
        "np.save(\"../../inversePB/test/Y2.npy\", Y_test)\n",
        "\n",
        "##---- For the baseline model\n",
        "# np.save(\"../data/X_baseline.npy\", X_train)\n",
        "# np.save(\"../data/Y_baseline.npy\", Y_train)"
      ]
    },
    {
      "cell_type": "markdown",
      "metadata": {},
      "source": [
        "Rajout des donnees"
      ]
    },
    {
      "cell_type": "code",
      "execution_count": null,
      "metadata": {},
      "outputs": [
        {
          "name": "stdout",
          "output_type": "stream",
          "text": [
            "(1950, 64, 64, 48)\n",
            "(1950, 64, 64, 1)\n"
          ]
        }
      ],
      "source": [
        "X_train = np.concatenate([X_train, np.load(\"../../inversePB/train/X1.npy\")])\n",
        "print(X_train.shape)\n",
        "Y_train = np.concatenate([Y_train, np.load(\"../../inversePB/train/Y1.npy\")])\n",
        "print(Y_train.shape)\n",
        "np.save(\"../../inversePB/train/X.npy\", X_train)\n",
        "np.save(\"../../inversePB/train/Y.npy\", Y_train)"
      ]
    },
    {
      "cell_type": "code",
      "execution_count": null,
      "metadata": {},
      "outputs": [
        {
          "name": "stdout",
          "output_type": "stream",
          "text": [
            "(750, 64, 64, 48)\n",
            "(750, 64, 64, 1)\n"
          ]
        }
      ],
      "source": [
        "X_val = np.concatenate([X_val, np.load(\"../../inversePB/val/X1.npy\")])\n",
        "print(X_val.shape)\n",
        "Y_val = np.concatenate([Y_val, np.load(\"../../inversePB/val/Y1.npy\")])\n",
        "print(Y_val.shape)\n",
        "np.save(\"../../inversePB/val/X.npy\", X_val)\n",
        "np.save(\"../../inversePB/val/Y.npy\", Y_val)"
      ]
    },
    {
      "cell_type": "code",
      "execution_count": null,
      "metadata": {},
      "outputs": [
        {
          "name": "stdout",
          "output_type": "stream",
          "text": [
            "(183, 64, 64, 48)\n",
            "(183, 64, 64, 1)\n"
          ]
        }
      ],
      "source": [
        "X_test = np.concatenate([np.load(\"../../inversePB/test/X1.npy\"), X_test])\n",
        "print(X_test.shape)\n",
        "Y_test = np.concatenate([np.load(\"../../inversePB/test/Y1.npy\"), Y_test])\n",
        "print(Y_test.shape)\n",
        "np.save(\"../../inversePB/test/X.npy\", X_test)\n",
        "np.save(\"../../inversePB/test/Y.npy\", Y_test)"
      ]
    },
    {
      "cell_type": "markdown",
      "metadata": {},
      "source": [
        "### Run this for difference in signals"
      ]
    },
    {
      "cell_type": "code",
      "execution_count": 33,
      "metadata": {},
      "outputs": [],
      "source": [
        "oldXtrain = np.load(\"../data/train/X.npy\")\n",
        "oldXval = np.load(\"../data/val/X.npy\")\n",
        "oldXtest = np.load(\"../data/test/X.npy\")\n",
        "\n",
        "oldYtrain = np.load(\"../data/train/Y.npy\")\n",
        "oldYval = np.load(\"../data/val/Y.npy\")\n",
        "oldYtest = np.load(\"../data/test/Y.npy\")"
      ]
    },
    {
      "cell_type": "code",
      "execution_count": 34,
      "metadata": {},
      "outputs": [
        {
          "data": {
            "text/plain": [
              "(1950, 64, 64, 48)"
            ]
          },
          "execution_count": 34,
          "metadata": {},
          "output_type": "execute_result"
        }
      ],
      "source": [
        "oldXtrain.shape"
      ]
    },
    {
      "cell_type": "code",
      "execution_count": 37,
      "metadata": {},
      "outputs": [],
      "source": [
        "newXtrain = oldXtrain - X_train\n",
        "newXval = oldXval - X_train\n",
        "newXtest = oldXtest - X_train\n",
        "\n",
        "newYtrain = oldYtrain - Y_train\n",
        "newYval = oldYval - Y_train\n",
        "newYtest = oldYtest - Y_train"
      ]
    },
    {
      "cell_type": "code",
      "execution_count": 38,
      "metadata": {},
      "outputs": [],
      "source": [
        "np.save(\"../data/train/newX.npy\", newXtrain)\n",
        "np.save(\"../data/val/newX.npy\", newXval)\n",
        "np.save(\"../data/test/newX.npy\", newXtest)\n",
        "\n",
        "np.save(\"../data/train/newY.npy\", newYtrain)\n",
        "np.save(\"../data/val/newY.npy\", newYval)\n",
        "np.save(\"../data/test/newY.npy\", newYtest)"
      ]
    }
  ],
  "metadata": {
    "colab": {
      "collapsed_sections": [],
      "include_colab_link": true,
      "name": "Fonctions.ipynb",
      "provenance": [],
      "toc_visible": true
    },
    "kernelspec": {
      "display_name": "Python 3",
      "name": "python3"
    },
    "language_info": {
      "codemirror_mode": {
        "name": "ipython",
        "version": 3
      },
      "file_extension": ".py",
      "mimetype": "text/x-python",
      "name": "python",
      "nbconvert_exporter": "python",
      "pygments_lexer": "ipython3",
      "version": "3.9.5"
    }
  },
  "nbformat": 4,
  "nbformat_minor": 0
}
