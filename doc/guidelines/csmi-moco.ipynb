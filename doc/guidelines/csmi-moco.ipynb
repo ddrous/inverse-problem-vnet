{
  "nbformat": 4,
  "nbformat_minor": 0,
  "metadata": {
    "colab": {
      "name": "projets.ipynb",
      "provenance": []
    },
    "kernelspec": {
      "name": "python3",
      "display_name": "Python 3"
    }
  },
  "cells": [
    {
      "cell_type": "markdown",
      "metadata": {
        "id": "fPimql-c7gPG"
      },
      "source": [
        "# Projet Hamiltonien\n",
        "\n",
        "\n",
        "Un problème classique en machine learning est de trouver une EDO capable de reproduire des données temporelles issues de la physique ou de la biologie.\n",
        "\n",
        "\"Vérité cachée\"\n",
        "$$\n",
        "\\frac{dX_t}{dt} = F_{true}(X_t)\n",
        "$$\n",
        "Observations\n",
        "$$\n",
        "X_{t_o},...,X_{t_n}\n",
        "$$\n",
        "On cherche un réseau de neurone $F_\\theta$ tel qu'en résolvant \n",
        "$$\n",
        "\\frac{d\\hat X_t}{dt} = F_{\\theta}(\\hat X_t)\n",
        "$$\n",
        "On ait des $\\hat X_{t_i}$ proche des $ X_{t_i}$\n",
        "\n",
        "Problème : la stabilité. Il n'est pas évident que l'EDO construite soit stable en temps long.\n",
        "\n"
      ]
    },
    {
      "cell_type": "markdown",
      "metadata": {
        "id": "VQkQq2emARxn"
      },
      "source": [
        "\n",
        "Une solution pour regler cela est d'apprendre les EDO sous des formes particulières qui guarantissent la stabilité. Dans un 1er temps on testera un travail récent qui construit des ODE sous forme Hamiltonienne. \n",
        "$$\n",
        "\\frac{d (X_t,Y_t) }{dt} = J \\nabla H (X_t,Y_t)\n",
        "$$\n",
        "avec\n",
        "$$\n",
        "J=\\begin{pmatrix}\n",
        "0 &I \\\\\n",
        "-I && 0\n",
        "\\end{pmatrix}\n",
        "$$\n",
        "qui satisfait naturellement\n",
        "$$\n",
        "\\frac{d H (X_t,Y_t) }{dt} =0\n",
        "$$\n",
        "\n",
        "\n",
        "\n",
        "Dans un second temps on considérera des extension\n",
        "*  aux système de Poisson \n",
        "* à des problèmes multi-échelles\n",
        "* à la réduction de dimension\n",
        "\n"
      ]
    },
    {
      "cell_type": "markdown",
      "metadata": {
        "id": "dmNE17PxLyAU"
      },
      "source": [
        "\n",
        "![reduction_dim](http://octaviogame.com/public/reduction_dim.png)"
      ]
    },
    {
      "cell_type": "markdown",
      "metadata": {
        "id": "hZydQwJx9fk3"
      },
      "source": [
        "## Reconstruction tomographique via un U-net"
      ]
    },
    {
      "cell_type": "markdown",
      "metadata": {
        "id": "VCFHE6x1KwFW"
      },
      "source": [
        "Radiation: \n",
        "![observations](http://octaviogame.com/public/radiation.png)"
      ]
    },
    {
      "cell_type": "markdown",
      "metadata": {
        "id": "YhdLx2nWKQxw"
      },
      "source": [
        "On les observe sur les côté, en plusieurs instants\n",
        "\n",
        "![observations](http://octaviogame.com/public/observations.png)"
      ]
    },
    {
      "cell_type": "markdown",
      "metadata": {
        "id": "gAkK8wLKMWgq"
      },
      "source": [
        "On aimerait reconstruire l'interieur avec un Unet (ou Vnet)"
      ]
    },
    {
      "cell_type": "markdown",
      "metadata": {
        "id": "j8NfdX1lKv8O"
      },
      "source": [
        "![observations](http://octaviogame.com/public/Unet.jpeg)"
      ]
    },
    {
      "cell_type": "markdown",
      "metadata": {
        "id": "ONcdM7COMbbz"
      },
      "source": [
        "classiquement cela fait de la classification"
      ]
    },
    {
      "cell_type": "markdown",
      "metadata": {
        "id": "V0UU-3e2LUfR"
      },
      "source": [
        "![Vnet_resultat](http://octaviogame.com/public/Vnet_resultat.png)\n"
      ]
    },
    {
      "cell_type": "markdown",
      "metadata": {
        "id": "EflnofqgMew7"
      },
      "source": [
        "ou bien de la régression"
      ]
    },
    {
      "cell_type": "markdown",
      "metadata": {
        "id": "gCv3jc6JLg1m"
      },
      "source": [
        "![Vnet_application_tomographie](http://octaviogame.com/public/Vnet_application_tomographie.PNG)\n"
      ]
    },
    {
      "cell_type": "markdown",
      "metadata": {
        "id": "Sg5imQ-WMh7s"
      },
      "source": [
        "Mais nous, nous voulons passer d'une image temps*espace à une image espace*espace"
      ]
    }
  ]
}